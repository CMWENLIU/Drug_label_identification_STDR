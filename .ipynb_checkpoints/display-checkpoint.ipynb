{
 "cells": [
  {
   "cell_type": "code",
   "execution_count": 1,
   "metadata": {},
   "outputs": [
    {
     "name": "stderr",
     "output_type": "stream",
     "text": [
      "/home/bear/py36/lib64/python3.6/site-packages/fuzzywuzzy/fuzz.py:11: UserWarning: Using slow pure-python SequenceMatcher. Install python-Levenshtein to remove this warning\n",
      "  warnings.warn('Using slow pure-python SequenceMatcher. Install python-Levenshtein to remove this warning')\n"
     ]
    }
   ],
   "source": [
    "import time\n",
    "import os\n",
    "import pro\n",
    "import pandas as pd\n",
    "import numpy as np\n",
    "from IPython.display import HTML\n",
    "from IPython.display import display\n",
    "from IPython.display import SVG\n",
    "from IPython.display import display_pretty, display_html, display_jpeg, display_png, display_json, display_latex, display_svg\n",
    "from IPython.display import Image\n",
    "import PIL\n",
    "from PIL import Image\n",
    "import matplotlib\n",
    "%matplotlib inline\n",
    "import matplotlib.pyplot as plt"
   ]
  },
  {
   "cell_type": "code",
   "execution_count": 2,
   "metadata": {},
   "outputs": [],
   "source": [
    "class Drug(object):\n",
    "    \"\"\"__init__() functions as the class constructor\"\"\"\n",
    "    def __init__(self, name=None, text=None, label=None):\n",
    "        self.name = name\n",
    "        self.text = text\n",
    "        self.label = label \n",
    "n, t, n_r, t_r = [],[],[],[]"
   ]
  },
  {
   "cell_type": "code",
   "execution_count": 3,
   "metadata": {},
   "outputs": [
    {
     "name": "stdout",
     "output_type": "stream",
     "text": [
      "Totally: 2198 images loaded\n"
     ]
    }
   ],
   "source": [
    "drug_list=[]#list of drugs to store fileName,Text and lablel information\n",
    "with open('data/ocr.txt', 'r') as rf:\n",
    "  for line in rf:\n",
    "    split_r = pro.split_fname_texts(line)\n",
    "    drug_list.append(Drug(split_r['name'], split_r['text'], split_r['label']))\n",
    "print ('Totally: ' + str(len(drug_list)) + ' images loaded')"
   ]
  },
  {
   "cell_type": "code",
   "execution_count": 4,
   "metadata": {},
   "outputs": [
    {
     "data": {
      "image/png": "[encoded data removed]",
      "text/plain": [
       "<Figure size 432x288 with 1 Axes>"
      ]
     },
     "metadata": {
      "needs_background": "light"
     },
     "output_type": "display_data"
    }
   ],
   "source": [
    "df = pd.DataFrame([vars(f) for f in drug_list])\n",
    "df.columns = [\"label\", \"name\", \"text\"]\n",
    "count_fre = pro.frequency_distribution(drug_list)\n",
    "plt.bar(count_fre.keys(),count_fre.values(), label=\"Image number frequency distribution\",\n",
    "       color='b')\n",
    "plt.legend()\n",
    "plt.xlabel('Number of images in unique drug')\n",
    "plt.ylabel('Frequency')\n",
    "plt.show()"
   ]
  },
  {
   "cell_type": "code",
   "execution_count": 5,
   "metadata": {},
   "outputs": [
    {
     "name": "stdout",
     "output_type": "stream",
     "text": [
      "Drugs containing more than 4 images are selected\n",
      "Unique drug number: 81\n",
      "Total images number: 618\n"
     ]
    }
   ],
   "source": [
    "final_list = pro.frequency(drug_list, 4)#get the records with count more than n\n",
    "print ('Unique drug number: ' + str((len(final_list))))\n",
    "df = df[df['label'].isin(final_list)]\n",
    "print ('Total images number: ' + str(len(df)))"
   ]
  },
  {
   "cell_type": "code",
   "execution_count": 6,
   "metadata": {},
   "outputs": [
    {
     "name": "stdout",
     "output_type": "stream",
     "text": [
      "True label of test drug: f7e9a4b3-a2ee-4f0a-becd-6ef90867332b\n",
      "\n",
      "Following are most similar texts from images:\n",
      "\n",
      "                             result_label  result_score  \\\n",
      "597  f7e9a4b3-a2ee-4f0a-becd-6ef90867332b           200   \n",
      "557  e6e34c18-fbc6-4cab-9aed-0905d93c2ab6            84   \n",
      "592  f7e9a4b3-a2ee-4f0a-becd-6ef90867332b            71   \n",
      "596  f7e9a4b3-a2ee-4f0a-becd-6ef90867332b            69   \n",
      "598  f7e9a4b3-a2ee-4f0a-becd-6ef90867332b            68   \n",
      "595  f7e9a4b3-a2ee-4f0a-becd-6ef90867332b            62   \n",
      "552  e6e34c18-fbc6-4cab-9aed-0905d93c2ab6            54   \n",
      "594  f7e9a4b3-a2ee-4f0a-becd-6ef90867332b            49   \n",
      "3    06c529fc-272c-f889-f5e5-7f3e5ef2c59d            49   \n",
      "354  78221eab-66fd-4cd8-9c81-af52eb83671c            48   \n",
      "402  90b94524-f913-48b3-3771-7b2fcffd888a            47   \n",
      "293  6b28c424-0b7e-4b75-b090-f116b113554e            46   \n",
      "353  78221eab-66fd-4cd8-9c81-af52eb83671c            45   \n",
      "393  8f549d95-985b-f783-1ebb-ef57bd2ecb05            44   \n",
      "210  5accc7a5-8209-4680-b0ae-2a6963500419            44   \n",
      "\n",
      "                                           result_text  \\\n",
      "597   5 A QIHSINYVANN VIV dX3 B 101 ___f__u—_r __ _...   \n",
      "557                                              A I\\n   \n",
      "592   Y G3HSINYVANN VMY dX3 3 10T L0222y Lcll0 9L02...   \n",
      "596   S GIHSINMVANN VAUV dX3 B 1O , —__ _ q__ _____...   \n",
      "598   QIHSINYVANND VAU X3 B 107 SLLO 9102/1L “A3y 5...   \n",
      "595   QIHSINHVAND VMY dX3 3 10T SLlLo 9L02/LL “hay ...   \n",
      "552                                             AT [\\n   \n",
      "594   D J3HSINYVANN V3HY dX3 B 101 8102/10 °sSI Lo-...   \n",
      "3                                          S i S S g\\n   \n",
      "354                      — e | aunss [p— 1 oA | o oy\\n   \n",
      "402                                            s s =\\n   \n",
      "293   0€-2€2€-2000 anisiow “swatjed o} pasuadsip aq...   \n",
      "353                                      £53 —| (= |\\n   \n",
      "393                                              nan\\n   \n",
      "210                                              nan\\n   \n",
      "\n",
      "                                         result_name  \n",
      "597   f7e9a4b3-a2ee-4f0a-becd-6ef90867332b_675_6.jpg  \n",
      "557   e6e34c18-fbc6-4cab-9aed-0905d93c2ab6_291_6.jpg  \n",
      "592   f7e9a4b3-a2ee-4f0a-becd-6ef90867332b_675_1.jpg  \n",
      "596   f7e9a4b3-a2ee-4f0a-becd-6ef90867332b_675_5.jpg  \n",
      "598   f7e9a4b3-a2ee-4f0a-becd-6ef90867332b_675_7.jpg  \n",
      "595   f7e9a4b3-a2ee-4f0a-becd-6ef90867332b_675_4.jpg  \n",
      "552  e6e34c18-fbc6-4cab-9aed-0905d93c2ab6_291_14.jpg  \n",
      "594   f7e9a4b3-a2ee-4f0a-becd-6ef90867332b_675_3.jpg  \n",
      "3     06c529fc-272c-f889-f5e5-7f3e5ef2c59d_910_4.jpg  \n",
      "354     78221eab-66fd-4cd8-9c81-af52eb83671c_1_4.jpg  \n",
      "402   90b94524-f913-48b3-3771-7b2fcffd888a_123_1.jpg  \n",
      "293   6b28c424-0b7e-4b75-b090-f116b113554e_801_3.jpg  \n",
      "353     78221eab-66fd-4cd8-9c81-af52eb83671c_1_3.jpg  \n",
      "393  8f549d95-985b-f783-1ebb-ef57bd2ecb05_883_10.jpg  \n",
      "210   5accc7a5-8209-4680-b0ae-2a6963500419_973_6.jpg  \n",
      "Following are candidates from reference dataset:\n",
      "\n",
      "                           result_label  total_score  probability\n",
      "7  f7e9a4b3-a2ee-4f0a-becd-6ef90867332b          519         0.53\n",
      "6  e6e34c18-fbc6-4cab-9aed-0905d93c2ab6          138         0.14\n",
      "3  78221eab-66fd-4cd8-9c81-af52eb83671c           93         0.09\n",
      "0  06c529fc-272c-f889-f5e5-7f3e5ef2c59d           49         0.05\n",
      "5  90b94524-f913-48b3-3771-7b2fcffd888a           47         0.05\n",
      "2  6b28c424-0b7e-4b75-b090-f116b113554e           46         0.05\n",
      "1  5accc7a5-8209-4680-b0ae-2a6963500419           44         0.04\n",
      "4  8f549d95-985b-f783-1ebb-ef57bd2ecb05           44         0.04\n"
     ]
    }
   ],
   "source": [
    "r1, r2, n, t, n_r, t_r= pro.cal_top(df, 15, 1)"
   ]
  },
  {
   "cell_type": "code",
   "execution_count": 13,
   "metadata": {},
   "outputs": [
    {
     "data": {
      "text/html": [
       "<div>\n",
       "<style scoped>\n",
       "    .dataframe tbody tr th:only-of-type {\n",
       "        vertical-align: middle;\n",
       "    }\n",
       "\n",
       "    .dataframe tbody tr th {\n",
       "        vertical-align: top;\n",
       "    }\n",
       "\n",
       "    .dataframe thead th {\n",
       "        text-align: right;\n",
       "    }\n",
       "</style>\n",
       "<table border=\"1\" class=\"dataframe\">\n",
       "  <thead>\n",
       "    <tr style=\"text-align: right;\">\n",
       "      <th></th>\n",
       "      <th>result_label</th>\n",
       "      <th>result_score</th>\n",
       "    </tr>\n",
       "  </thead>\n",
       "  <tbody>\n",
       "    <tr>\n",
       "      <th>597</th>\n",
       "      <td>f7e9a4b3-a2ee-4f0a-becd-6ef90867332b</td>\n",
       "      <td>200</td>\n",
       "    </tr>\n",
       "    <tr>\n",
       "      <th>557</th>\n",
       "      <td>e6e34c18-fbc6-4cab-9aed-0905d93c2ab6</td>\n",
       "      <td>84</td>\n",
       "    </tr>\n",
       "    <tr>\n",
       "      <th>592</th>\n",
       "      <td>f7e9a4b3-a2ee-4f0a-becd-6ef90867332b</td>\n",
       "      <td>71</td>\n",
       "    </tr>\n",
       "    <tr>\n",
       "      <th>596</th>\n",
       "      <td>f7e9a4b3-a2ee-4f0a-becd-6ef90867332b</td>\n",
       "      <td>69</td>\n",
       "    </tr>\n",
       "    <tr>\n",
       "      <th>598</th>\n",
       "      <td>f7e9a4b3-a2ee-4f0a-becd-6ef90867332b</td>\n",
       "      <td>68</td>\n",
       "    </tr>\n",
       "    <tr>\n",
       "      <th>595</th>\n",
       "      <td>f7e9a4b3-a2ee-4f0a-becd-6ef90867332b</td>\n",
       "      <td>62</td>\n",
       "    </tr>\n",
       "    <tr>\n",
       "      <th>552</th>\n",
       "      <td>e6e34c18-fbc6-4cab-9aed-0905d93c2ab6</td>\n",
       "      <td>54</td>\n",
       "    </tr>\n",
       "    <tr>\n",
       "      <th>594</th>\n",
       "      <td>f7e9a4b3-a2ee-4f0a-becd-6ef90867332b</td>\n",
       "      <td>49</td>\n",
       "    </tr>\n",
       "    <tr>\n",
       "      <th>3</th>\n",
       "      <td>06c529fc-272c-f889-f5e5-7f3e5ef2c59d</td>\n",
       "      <td>49</td>\n",
       "    </tr>\n",
       "    <tr>\n",
       "      <th>354</th>\n",
       "      <td>78221eab-66fd-4cd8-9c81-af52eb83671c</td>\n",
       "      <td>48</td>\n",
       "    </tr>\n",
       "    <tr>\n",
       "      <th>402</th>\n",
       "      <td>90b94524-f913-48b3-3771-7b2fcffd888a</td>\n",
       "      <td>47</td>\n",
       "    </tr>\n",
       "    <tr>\n",
       "      <th>293</th>\n",
       "      <td>6b28c424-0b7e-4b75-b090-f116b113554e</td>\n",
       "      <td>46</td>\n",
       "    </tr>\n",
       "    <tr>\n",
       "      <th>353</th>\n",
       "      <td>78221eab-66fd-4cd8-9c81-af52eb83671c</td>\n",
       "      <td>45</td>\n",
       "    </tr>\n",
       "    <tr>\n",
       "      <th>393</th>\n",
       "      <td>8f549d95-985b-f783-1ebb-ef57bd2ecb05</td>\n",
       "      <td>44</td>\n",
       "    </tr>\n",
       "    <tr>\n",
       "      <th>210</th>\n",
       "      <td>5accc7a5-8209-4680-b0ae-2a6963500419</td>\n",
       "      <td>44</td>\n",
       "    </tr>\n",
       "  </tbody>\n",
       "</table>\n",
       "</div>"
      ],
      "text/plain": [
       "                             result_label  result_score\n",
       "597  f7e9a4b3-a2ee-4f0a-becd-6ef90867332b           200\n",
       "557  e6e34c18-fbc6-4cab-9aed-0905d93c2ab6            84\n",
       "592  f7e9a4b3-a2ee-4f0a-becd-6ef90867332b            71\n",
       "596  f7e9a4b3-a2ee-4f0a-becd-6ef90867332b            69\n",
       "598  f7e9a4b3-a2ee-4f0a-becd-6ef90867332b            68\n",
       "595  f7e9a4b3-a2ee-4f0a-becd-6ef90867332b            62\n",
       "552  e6e34c18-fbc6-4cab-9aed-0905d93c2ab6            54\n",
       "594  f7e9a4b3-a2ee-4f0a-becd-6ef90867332b            49\n",
       "3    06c529fc-272c-f889-f5e5-7f3e5ef2c59d            49\n",
       "354  78221eab-66fd-4cd8-9c81-af52eb83671c            48\n",
       "402  90b94524-f913-48b3-3771-7b2fcffd888a            47\n",
       "293  6b28c424-0b7e-4b75-b090-f116b113554e            46\n",
       "353  78221eab-66fd-4cd8-9c81-af52eb83671c            45\n",
       "393  8f549d95-985b-f783-1ebb-ef57bd2ecb05            44\n",
       "210  5accc7a5-8209-4680-b0ae-2a6963500419            44"
      ]
     },
     "execution_count": 13,
     "metadata": {},
     "output_type": "execute_result"
    }
   ],
   "source": [
    "r1[['result_label','result_score']]"
   ]
  },
  {
   "cell_type": "code",
   "execution_count": 14,
   "metadata": {},
   "outputs": [
    {
     "data": {
      "text/html": [
       "<div>\n",
       "<style scoped>\n",
       "    .dataframe tbody tr th:only-of-type {\n",
       "        vertical-align: middle;\n",
       "    }\n",
       "\n",
       "    .dataframe tbody tr th {\n",
       "        vertical-align: top;\n",
       "    }\n",
       "\n",
       "    .dataframe thead th {\n",
       "        text-align: right;\n",
       "    }\n",
       "</style>\n",
       "<table border=\"1\" class=\"dataframe\">\n",
       "  <thead>\n",
       "    <tr style=\"text-align: right;\">\n",
       "      <th></th>\n",
       "      <th>result_label</th>\n",
       "      <th>total_score</th>\n",
       "      <th>probability</th>\n",
       "    </tr>\n",
       "  </thead>\n",
       "  <tbody>\n",
       "    <tr>\n",
       "      <th>7</th>\n",
       "      <td>f7e9a4b3-a2ee-4f0a-becd-6ef90867332b</td>\n",
       "      <td>519</td>\n",
       "      <td>0.53</td>\n",
       "    </tr>\n",
       "    <tr>\n",
       "      <th>6</th>\n",
       "      <td>e6e34c18-fbc6-4cab-9aed-0905d93c2ab6</td>\n",
       "      <td>138</td>\n",
       "      <td>0.14</td>\n",
       "    </tr>\n",
       "    <tr>\n",
       "      <th>3</th>\n",
       "      <td>78221eab-66fd-4cd8-9c81-af52eb83671c</td>\n",
       "      <td>93</td>\n",
       "      <td>0.09</td>\n",
       "    </tr>\n",
       "    <tr>\n",
       "      <th>0</th>\n",
       "      <td>06c529fc-272c-f889-f5e5-7f3e5ef2c59d</td>\n",
       "      <td>49</td>\n",
       "      <td>0.05</td>\n",
       "    </tr>\n",
       "    <tr>\n",
       "      <th>5</th>\n",
       "      <td>90b94524-f913-48b3-3771-7b2fcffd888a</td>\n",
       "      <td>47</td>\n",
       "      <td>0.05</td>\n",
       "    </tr>\n",
       "    <tr>\n",
       "      <th>2</th>\n",
       "      <td>6b28c424-0b7e-4b75-b090-f116b113554e</td>\n",
       "      <td>46</td>\n",
       "      <td>0.05</td>\n",
       "    </tr>\n",
       "    <tr>\n",
       "      <th>1</th>\n",
       "      <td>5accc7a5-8209-4680-b0ae-2a6963500419</td>\n",
       "      <td>44</td>\n",
       "      <td>0.04</td>\n",
       "    </tr>\n",
       "    <tr>\n",
       "      <th>4</th>\n",
       "      <td>8f549d95-985b-f783-1ebb-ef57bd2ecb05</td>\n",
       "      <td>44</td>\n",
       "      <td>0.04</td>\n",
       "    </tr>\n",
       "  </tbody>\n",
       "</table>\n",
       "</div>"
      ],
      "text/plain": [
       "                           result_label  total_score  probability\n",
       "7  f7e9a4b3-a2ee-4f0a-becd-6ef90867332b          519         0.53\n",
       "6  e6e34c18-fbc6-4cab-9aed-0905d93c2ab6          138         0.14\n",
       "3  78221eab-66fd-4cd8-9c81-af52eb83671c           93         0.09\n",
       "0  06c529fc-272c-f889-f5e5-7f3e5ef2c59d           49         0.05\n",
       "5  90b94524-f913-48b3-3771-7b2fcffd888a           47         0.05\n",
       "2  6b28c424-0b7e-4b75-b090-f116b113554e           46         0.05\n",
       "1  5accc7a5-8209-4680-b0ae-2a6963500419           44         0.04\n",
       "4  8f549d95-985b-f783-1ebb-ef57bd2ecb05           44         0.04"
      ]
     },
     "execution_count": 14,
     "metadata": {},
     "output_type": "execute_result"
    }
   ],
   "source": [
    "r2"
   ]
  },
  {
   "cell_type": "code",
   "execution_count": 64,
   "metadata": {},
   "outputs": [
    {
     "name": "stdout",
     "output_type": "stream",
     "text": [
      "Extracted Text:  .i||1|||4111|4|1| = , | 4, | | % , | | W | [ 7,90£065,£8220,, £ H . lsersae MOT38 dX3/101 [ 121720 Moy 500 (N ueddisieq U ‘ewieyq snepy Ag painqusiq r ‘aunisiow pue 361 woy 330l (4,98 -,65) | 12406 - o1 0} PaRIWLIE SUOISINDXD !(4,££) D57 18 3105 ( “J3ule3u0 Juesisal-jybi| [ I ‘ooidpjiy> quspins-1adwey pajeas e u asuadsiq ( *u3lp|iy> JO Yoeal [ 3y} Jo 30 dady ‘UuonedlpaLl [|e Y3m sy :Bulutep [ ‘PIAJOSSIp 10 paysnid ‘pamaLp aq JON PInoys sajnsded | |2sea21-papuaixa ajeyins auiydiows wioy sajjad 3y “uogeuLojul, || Buqudsaid burkuedwonde 235 :39¥S0A TYNSN | | 's19y12d aseajar-papuaixe se ajejns auiydiow b og| ‘SNIVINOD 31NSdYD HOV3 *juaned yoea oy Ajp3esedas papinoad 3pIng uoped P3| 3suadsip 3se3|d 1SIDYINYYHA S>fl=)o $ 225 3 B8, & gy &gv S s £ 2 =28 g Su%§ E 2823 SAZS\n",
      "\n"
     ]
    },
    {
     "data": {
      "image/png": "[encoded data removed]",
      "text/plain": [
       "<Figure size 432x288 with 1 Axes>"
      ]
     },
     "metadata": {
      "needs_background": "light"
     },
     "output_type": "display_data"
    }
   ],
   "source": [
    "img = Image.open(os.path.join('data/images/', n[0]))\n",
    "plt.figure()\n",
    "#plt.title('Extracted Text: ' + t[0])\n",
    "plt.imshow(img)\n",
    "print('Extracted Text: ' + t[0])"
   ]
  },
  {
   "cell_type": "code",
   "execution_count": 97,
   "metadata": {},
   "outputs": [],
   "source": [
    "s = ''\n",
    "for i,val in enumerate(n_r):\n",
    "    path = os.path.join('data/images/', val)\n",
    "    s += '<img src=\"' + path + '\" width=\"500\">'\n",
    "    s += '<p>' + 'Extracted Text: ' + t_r[i] + '</p>' + '<hr style=\"height:1px\"/>'"
   ]
  },
  {
   "cell_type": "code",
   "execution_count": 98,
   "metadata": {},
   "outputs": [
    {
     "data": {
      "text/html": [
       "<img src=\"data/images/6fe62c06-5bab-4fc8-b546-ff015a1fc40c_202_3.jpg\" width=\"500\"><p>Extracted Text:  .i||1|||4111|4|1| = , | 4, | | % , | | W | [ 7,90£065,£8220,, £ H . lsersae MOT38 dX3/101 [ 121720 Moy 500 (N ueddisieq U ‘ewieyq snepy Ag painqusiq r ‘aunisiow pue 361 woy 330l (4,98 -,65) | 12406 - o1 0} PaRIWLIE SUOISINDXD !(4,££) D57 18 3105 ( “J3ule3u0 Juesisal-jybi| [ I ‘ooidpjiy> quspins-1adwey pajeas e u asuadsiq ( *u3lp|iy> JO Yoeal [ 3y} Jo 30 dady ‘UuonedlpaLl [|e Y3m sy :Bulutep [ ‘PIAJOSSIp 10 paysnid ‘pamaLp aq JON PInoys sajnsded | |2sea21-papuaixa ajeyins auiydiows wioy sajjad 3y “uogeuLojul, || Buqudsaid burkuedwonde 235 :39¥S0A TYNSN | | 's19y12d aseajar-papuaixe se ajejns auiydiow b og| ‘SNIVINOD 31NSdYD HOV3 *juaned yoea oy Ajp3esedas papinoad 3pIng uoped P3| 3suadsip 3se3|d 1SIDYINYYHA S>fl=)o $ 225 3 B8, & gy &gv S s £ 2 =28 g Su%§ E 2823 SAZS\n",
       "</p><hr style=\"height:1px\"/><img src=\"data/images/e6e34c18-fbc6-4cab-9aed-0905d93c2ab6_291_6.jpg\" width=\"500\"><p>Extracted Text:  A I\n",
       "</p><hr style=\"height:1px\"/><img src=\"data/images/6fe62c06-5bab-4fc8-b546-ff015a1fc40c_202_8.jpg\" width=\"500\"><p>Extracted Text:  6, w90805,£822 W 1920-2S MO39 \"dX3/101 1 L1/L0°AY +50£0 (N ‘Aueddisieq h u| ‘euwieyq siAey :Ag paanqusiq | “aanysiow pue 3y6i| woiy 133014 (4,98 ~65) 2,06 - o5 | 03 PaRIuLIad SUOISING !(4,££) JST 12 2I0IS “13UlejuoD Jue)sisal-Jybiy | yoosdppy> Juapirs-1aduie) ‘pajeas e ul asuadsiq | “UBIP|IY JO Lpeal I 3y Jo 1no daey ‘uonedipauu jje yum sy :burwepy : PanjossIp 10 paysnId ‘pamayd aq JON pinoys sajnsden, ‘aseajai-papua)xa ajey|ns aulydiow woy sp|Rd ay) . “uoijeuwioyuy Buiquosaid buikuedwonde 335 :39y500 TYNSN [ [s19)j2d aseajas-papuay@ se ajeyns aulydiow bwi 0oz | *SNIVINOD J1NSdYD HOV3 quaged yoes 0} pjesedas papinoid | 3pIND uopedIPa|Y asuadsip aseald :1SDYWHYHJ \" | S wn sS{= mmCm 28, 25 So U M% gL 5% = £339 m.:mnw 0=s8a A& =adsd\n",
       "</p><hr style=\"height:1px\"/><img src=\"data/images/6fe62c06-5bab-4fc8-b546-ff015a1fc40c_202_2.jpg\" width=\"500\"><p>Extracted Text:  MO134 'dX3/101 1/£0°72Y #50£0 (N ‘Aueddisied| U] ‘ewieyq snepy :Ag painquasiql “3Injsiow pue 361 Wwoy 131014 (4,98 -,65)! 0€ -5 1 0} PaRIULIRd SUOISINIXA {(4,£) ),ST Je 103! “1aureyuod juesisal-jyby! “Jooidpjiy> quapias-sadwie) ‘pajess e ul asuad m_n_, | “ua1ppyp Jo yeai | auy3jonodasy ‘uonedipatu [je yym sy :burusep! ! vg_gmi ! 10 paysn.p ‘pamayp aq LON PInoys sajnsded, | 35eaRIPAPUBI3 Jjeyns Bu ydiow woy sajjed w.E “uopeuwoju| Buiquosaid Buikuedwonde 335 :39¥S0Q TYNSN| | 's12)j2d aseajai-papuaixa se ajeyns auiydiow bw gz| I *SNIVINOD F1NSdYD HOV3 “juaned yoea 03 Apjesedas papinoad| | 3pIND uonedIP3| 3suadsip 3sea|q:. ...m.U<Ez<In, ROnly G Extended-Release Capsules, USP I mg 60 capsules Ine Morphi Sulfate NDC 0228-3502-06 , | | | | | | | | | |\n",
       "</p><hr style=\"height:1px\"/><img src=\"data/images/e6e34c18-fbc6-4cab-9aed-0905d93c2ab6_291_14.jpg\" width=\"500\"><p>Extracted Text:  AT [\n",
       "</p><hr style=\"height:1px\"/><img src=\"data/images/6fe62c06-5bab-4fc8-b546-ff015a1fc40c_202_4.jpg\" width=\"500\"><p>Extracted Text:  bng90%06,£82 £ , 20 ! N | | | | | | £520TS MO39 'dX3/101 | | LL/L0 N3y #50£0 [N ‘Aueddisieq | U] ‘eusieyd siaeydy :Ag paanqusiq) | “aIn}siow pue 3y woiy 133014 (4,98 -65)! 240€ - 5§ 0} PanIuLIad SUOISINIXD (/L) J,ST 18 10| “13uIRUOD Juessisal-Jybyyl ‘jooidpjy> Juspina-1adwe} ‘pajess e uj asuadsiq “ualpjiyd Jo ypea! 31 Jo 1n0 daay|‘UoRedIPA [[e YUM Sy &5525“ “PANOSSIP, 10 paysni> ‘pamayd aq JON PInoys sansded; a5eajal-papuaxa ajeyns aulydiow wouy sajjed 3y ‘uojewwopul buiquosaid buikuedwode 335 :39y50Q TYNSN! 'sy9]j2d aseajai-papuaixe se ajeyns aulydiow bw og| *SNIVINOD F1NSdYD HOv3! quaped yoes o} Apjesedss papinoid! 3pIng uonedIpaly asuadsip seaid 1SDYWHYHd! | | | | | | | | | | | | | | | | ROnly G Extended-Release Capsules, USP mg 60 capsules NDC 0228-3504-06 Morphine Sulfate\n",
       "</p><hr style=\"height:1px\"/><img src=\"data/images/6fe62c06-5bab-4fc8-b546-ff015a1fc40c_202_7.jpg\" width=\"500\"><p>Extracted Text:  2 __ooxom £8220 0 ¢ 0920-2§ MO0138 'dX3/101 | LL/L0°NY 50£0 [N ‘Aueddisied U] ‘ewiey siAeldy :Ag panquasiq) “aanysiow pue Jybi| woiy 133014 (4,98 ~65)! 206 - 5§ 03 PanIULIad SUOISINIX® {(4,/) J,ST 12 10N “I3UIRJUOD JUR)SIS3I-) “Jooidp|iy> Juapirs-1aduie) ‘pajess e ui asuadsi “ualpjiy Jo yoeal! 34 Jo 1n0 daay‘uonedIpaw [je Yyim sy :burus m>>“ \"PAA(OSSIP| 10 paysnud ‘pamay aq JON PInoys sajnsded, 95e3[21- papua)Xe ajeyins aulydiow woysyvRd 3y, “uoljewoul| Buiquosaid buikuedwonde 335 :39y50Q TYNSNI *SNIVLNOD F1NSd¥D HOV3! quaned yoea o} Apjesedas papinoid| 3pIng uopedIpaly asuadsip aseald :LSDYWHYHd! | « Extended-Release Capsules, USP | I i @é | o = S = & 60 capsules Morphine Sulfate NDC 0228-3507-06\n",
       "</p><hr style=\"height:1px\"/><img src=\"data/images/75e96faa-545b-52d6-e053-2991aa0a8fb8_984_4.jpg\" width=\"500\"><p>Extracted Text:  green EpiPen Jr® Auto-Injectors P EECes\n",
       "</p><hr style=\"height:1px\"/><img src=\"data/images/78221eab-66fd-4cd8-9c81-af52eb83671c_1_3.jpg\" width=\"500\"><p>Extracted Text:  £53 —| (= |\n",
       "</p><hr style=\"height:1px\"/><img src=\"data/images/65f56eff-4f67-4cbf-a801-a632261afc29_886_6.jpg\" width=\"500\"><p>Extracted Text:  = oo AU B ...,\n",
       "</p><hr style=\"height:1px\"/><img src=\"data/images/90b94524-f913-48b3-3771-7b2fcffd888a_123_5.jpg\" width=\"500\"><p>Extracted Text:  = F‘\\““”““ e vy o\n",
       "</p><hr style=\"height:1px\"/><img src=\"data/images/aa3d32ae-3b44-e77b-6c9c-b07b6ac1ff64_456_4.jpg\" width=\"500\"><p>Extracted Text:  € 109€8 Léz2y £ ... ; w \" ui 5 e 2ES% g < 227 X:@ 083 3 3 3823 : 2 a8 : HYI\n",
       "</p><hr style=\"height:1px\"/><img src=\"data/images/06c529fc-272c-f889-f5e5-7f3e5ef2c59d_910_4.jpg\" width=\"500\"><p>Extracted Text:  S i S S g\n",
       "</p><hr style=\"height:1px\"/><img src=\"data/images/ec962052-7bea-4aeb-ac49-0072fdc77385_714_3.jpg\" width=\"500\"><p>Extracted Text:  S T &8 o O R s E, R TKE1 RPSULE DALY i e ORASDRECTED.\n",
       "</p><hr style=\"height:1px\"/><img src=\"data/images/5accc7a5-8209-4680-b0ae-2a6963500419_973_4.jpg\" width=\"500\"><p>Extracted Text:  LR INSIDE\n",
       "</p><hr style=\"height:1px\"/>"
      ],
      "text/plain": [
       "<IPython.core.display.HTML object>"
      ]
     },
     "execution_count": 98,
     "metadata": {},
     "output_type": "execute_result"
    }
   ],
   "source": [
    "h = HTML(s); h"
   ]
  },
  {
   "cell_type": "code",
   "execution_count": null,
   "metadata": {},
   "outputs": [],
   "source": []
  }
 ],
 "metadata": {
  "kernelspec": {
   "display_name": "Python 3",
   "language": "python",
   "name": "python3"
  },
  "language_info": {
   "codemirror_mode": {
    "name": "ipython",
    "version": 3
   },
   "file_extension": ".py",
   "mimetype": "text/x-python",
   "name": "python",
   "nbconvert_exporter": "python",
   "pygments_lexer": "ipython3",
   "version": "3.6.7"
  }
 },
 "nbformat": 4,
 "nbformat_minor": 2
}
